{
  "nbformat": 4,
  "nbformat_minor": 0,
  "metadata": {
    "colab": {
      "name": "Charles_McCann_HW8_nlp",
      "version": "0.3.2",
      "provenance": []
    },
    "kernelspec": {
      "name": "python2",
      "display_name": "Python 2"
    }
  },
  "cells": [
    {
      "metadata": {
        "id": "V-Z48Uk-h3nO",
        "colab_type": "code",
        "outputId": "69576670-3c9d-4625-b31b-c250fec2a2e4",
        "colab": {
          "base_uri": "https://localhost:8080/",
          "height": 612
        }
      },
      "cell_type": "code",
      "source": [
        "# Install Spacy and Beautiful Soup\n",
        "!pip install beautifulsoup\n",
        "!pip install spacy\n",
        "!python -m spacy download en_core_web_sm\n",
        "!pip install textblob"
      ],
      "execution_count": 1,
      "outputs": [
        {
          "output_type": "stream",
          "text": [
            "Requirement already satisfied: beautifulsoup in /usr/local/lib/python2.7/dist-packages (3.2.1)\n",
            "Requirement already satisfied: spacy in /usr/local/lib/python2.7/dist-packages (2.0.18)\n",
            "Requirement already satisfied: preshed<2.1.0,>=2.0.1 in /usr/local/lib/python2.7/dist-packages (from spacy) (2.0.1)\n",
            "Requirement already satisfied: pathlib==1.0.1; python_version < \"3.4\" in /usr/local/lib/python2.7/dist-packages (from spacy) (1.0.1)\n",
            "Requirement already satisfied: requests<3.0.0,>=2.13.0 in /usr/local/lib/python2.7/dist-packages (from spacy) (2.18.4)\n",
            "Requirement already satisfied: plac<1.0.0,>=0.9.6 in /usr/local/lib/python2.7/dist-packages (from spacy) (0.9.6)\n",
            "Requirement already satisfied: cymem<2.1.0,>=2.0.2 in /usr/local/lib/python2.7/dist-packages (from spacy) (2.0.2)\n",
            "Requirement already satisfied: thinc<6.13.0,>=6.12.1 in /usr/local/lib/python2.7/dist-packages (from spacy) (6.12.1)\n",
            "Requirement already satisfied: numpy>=1.15.0 in /usr/local/lib/python2.7/dist-packages (from spacy) (1.15.4)\n",
            "Requirement already satisfied: dill<0.3,>=0.2 in /usr/local/lib/python2.7/dist-packages (from spacy) (0.2.8.2)\n",
            "Requirement already satisfied: ujson>=1.35 in /usr/local/lib/python2.7/dist-packages (from spacy) (1.35)\n",
            "Requirement already satisfied: regex==2018.01.10 in /usr/local/lib/python2.7/dist-packages (from spacy) (2018.1.10)\n",
            "Requirement already satisfied: murmurhash<1.1.0,>=0.28.0 in /usr/local/lib/python2.7/dist-packages (from spacy) (1.0.1)\n",
            "Requirement already satisfied: idna<2.7,>=2.5 in /usr/local/lib/python2.7/dist-packages (from requests<3.0.0,>=2.13.0->spacy) (2.6)\n",
            "Requirement already satisfied: urllib3<1.23,>=1.21.1 in /usr/local/lib/python2.7/dist-packages (from requests<3.0.0,>=2.13.0->spacy) (1.22)\n",
            "Requirement already satisfied: certifi>=2017.4.17 in /usr/local/lib/python2.7/dist-packages (from requests<3.0.0,>=2.13.0->spacy) (2018.11.29)\n",
            "Requirement already satisfied: chardet<3.1.0,>=3.0.2 in /usr/local/lib/python2.7/dist-packages (from requests<3.0.0,>=2.13.0->spacy) (3.0.4)\n",
            "Requirement already satisfied: msgpack<0.6.0,>=0.5.6 in /usr/local/lib/python2.7/dist-packages (from thinc<6.13.0,>=6.12.1->spacy) (0.5.6)\n",
            "Requirement already satisfied: msgpack-numpy<0.4.4 in /usr/local/lib/python2.7/dist-packages (from thinc<6.13.0,>=6.12.1->spacy) (0.4.3.2)\n",
            "Requirement already satisfied: cytoolz<0.10,>=0.9.0 in /usr/local/lib/python2.7/dist-packages (from thinc<6.13.0,>=6.12.1->spacy) (0.9.0.1)\n",
            "Requirement already satisfied: wrapt<1.11.0,>=1.10.0 in /usr/local/lib/python2.7/dist-packages (from thinc<6.13.0,>=6.12.1->spacy) (1.10.11)\n",
            "Requirement already satisfied: tqdm<5.0.0,>=4.10.0 in /usr/local/lib/python2.7/dist-packages (from thinc<6.13.0,>=6.12.1->spacy) (4.28.1)\n",
            "Requirement already satisfied: six<2.0.0,>=1.10.0 in /usr/local/lib/python2.7/dist-packages (from thinc<6.13.0,>=6.12.1->spacy) (1.11.0)\n",
            "Requirement already satisfied: toolz>=0.8.0 in /usr/local/lib/python2.7/dist-packages (from cytoolz<0.10,>=0.9.0->thinc<6.13.0,>=6.12.1->spacy) (0.9.0)\n",
            "Requirement already satisfied: en_core_web_sm==2.0.0 from https://github.com/explosion/spacy-models/releases/download/en_core_web_sm-2.0.0/en_core_web_sm-2.0.0.tar.gz#egg=en_core_web_sm==2.0.0 in /usr/local/lib/python2.7/dist-packages (2.0.0)\n",
            "\n",
            "\u001b[93m    Linking successful\u001b[0m\n",
            "    /usr/local/lib/python2.7/dist-packages/en_core_web_sm -->\n",
            "    /usr/local/lib/python2.7/dist-packages/spacy/data/en_core_web_sm\n",
            "\n",
            "    You can now load the model via spacy.load('en_core_web_sm')\n",
            "\n",
            "Requirement already satisfied: textblob in /usr/local/lib/python2.7/dist-packages (0.15.2)\n",
            "Requirement already satisfied: nltk>=3.1 in /usr/local/lib/python2.7/dist-packages (from textblob) (3.2.5)\n",
            "Requirement already satisfied: six in /usr/local/lib/python2.7/dist-packages (from nltk>=3.1->textblob) (1.11.0)\n"
          ],
          "name": "stdout"
        }
      ]
    },
    {
      "metadata": {
        "id": "aQ_4QrUK8QwZ",
        "colab_type": "code",
        "outputId": "309c13e8-479e-4f3f-f329-ef3b3c4ad3e2",
        "colab": {
          "base_uri": "https://localhost:8080/",
          "height": 292
        }
      },
      "cell_type": "code",
      "source": [
        "# Import all the necessary package\n",
        "import nltk ; print (\"NLTK\", nltk.__version__)\n",
        "import BeautifulSoup as bs ; print (\"Beatiful Soup\", bs.__version__)\n",
        "from bs4 import BeautifulSoup\n",
        "from nltk import word_tokenize\n",
        "import numpy as np\n",
        "nltk.download('punkt')\n",
        "import codecs; print (\"Codecs\", codecs.sys.version)\n",
        "import urllib2; print (\"URLLIB2\", urllib2.__version__)\n",
        "from requests import get; \n",
        "import requests; print (\"Requests\", requests.__version__)\n",
        "import spacy; print (\"Spacy\", spacy.__version__)\n",
        "from nltk.stem import WordNetLemmatizer\n",
        "print (\"WordNetLemmatizer\", nltk.version_info)\n",
        "from sklearn.feature_extraction.text import TfidfVectorizer\n",
        "from sklearn.cluster import KMeans\n",
        "from sklearn.metrics import adjusted_rand_score\n",
        "from nltk.corpus import stopwords \n",
        "from textblob import TextBlob\n",
        "from collections import defaultdict \n",
        "\n",
        "import sys; print (\"Python version:\", sys.version)\n",
        "nltk.download('stopwords')\n",
        "import os\n",
        "print os.environ\n",
        "print sys.version"
      ],
      "execution_count": 2,
      "outputs": [
        {
          "output_type": "stream",
          "text": [
            "('NLTK', '3.2.5')\n",
            "('Beatiful Soup', '3.2.1')\n",
            "[nltk_data] Downloading package punkt to /root/nltk_data...\n",
            "[nltk_data]   Package punkt is already up-to-date!\n",
            "('Codecs', '2.7.15rc1 (default, Nov 12 2018, 14:31:15) \\n[GCC 7.3.0]')\n",
            "('URLLIB2', '2.7')\n",
            "('Requests', '2.18.4')\n",
            "('Spacy', '2.0.18')\n",
            "('WordNetLemmatizer', sys.version_info(major=2, minor=7, micro=15, releaselevel='candidate', serial=1))\n",
            "('Python version:', '2.7.15rc1 (default, Nov 12 2018, 14:31:15) \\n[GCC 7.3.0]')\n",
            "[nltk_data] Downloading package stopwords to /root/nltk_data...\n",
            "[nltk_data]   Package stopwords is already up-to-date!\n",
            "{'CLOUDSDK_CONFIG': '/content/.config', 'CUDA_VERSION': '9.2.148', 'PATH': '/usr/local/bin:/usr/local/nvidia/bin:/usr/local/cuda/bin:/usr/local/sbin:/usr/local/bin:/usr/sbin:/usr/bin:/sbin:/bin:/tools/node/bin:/tools/google-cloud-sdk/bin:/opt/bin', 'HOME': '/root', 'LD_LIBRARY_PATH': '/usr/local/nvidia/lib:/usr/local/nvidia/lib64', 'LANG': 'en_US.UTF-8', 'TERM': 'xterm-color', 'SHELL': '/bin/bash', 'CUDA_PKG_VERSION': '9-2=9.2.148-1', 'SHLVL': '1', 'NCCL_VERSION': '2.3.7', 'NVIDIA_VISIBLE_DEVICES': 'all', '_': '/tools/node/bin/forever', 'PYTHONPATH': '/env/python', 'CUDNN_VERSION': '7.4.1.5', 'JPY_PARENT_PID': '69', 'DEBIAN_FRONTEND': 'noninteractive', 'DATALAB_SETTINGS_OVERRIDES': '{\"kernelManagerProxyPort\":6000,\"kernelManagerProxyHost\":\"172.28.0.3\",\"jupyterArgs\":[\"notebook\",\"-y\",\"--no-browser\",\"--log-level=DEBUG\",\"--debug\",\"--NotebookApp.allow_origin=\\\\\"*\\\\\"\",\"--NotebookApp.log_format=\\\\\"%(message)s\\\\\"\",\"--NotebookApp.disable_check_xsrf=True\",\"--NotebookApp.token=\",\"--Session.key=\\\\\"\\\\\"\",\"--Session.keyfile=\\\\\"\\\\\"\",\"--ContentsManager.untitled_directory=\\\\\"Untitled Folder\\\\\"\",\"--ContentsManager.untitled_file=\\\\\"Untitled File\\\\\"\",\"--ContentsManager.untitled_notebook=\\\\\"Untitled Notebook\\\\\"\",\"--KernelManager.autorestart=True\",\"--ip=\\\\\"172.28.0.2\\\\\"\"]}', 'GIT_PAGER': 'cat', 'ENV': '/root/.bashrc', 'GLIBCXX_FORCE_NEW': '1', 'NVIDIA_DRIVER_CAPABILITIES': 'compute,utility', 'TF_FORCE_GPU_ALLOW_GROWTH': 'true', 'LD_PRELOAD': '/usr/lib/x86_64-linux-gnu/libtcmalloc.so.4', 'MPLBACKEND': 'module://ipykernel.pylab.backend_inline', 'NVIDIA_REQUIRE_CUDA': 'cuda>=9.2', 'OLDPWD': '/', 'HOSTNAME': 'effe2f24da98', 'CLICOLOR': '1', 'COLAB_GPU': '0', 'PWD': '/', 'GLIBCPP_FORCE_NEW': '1', 'PAGER': 'cat'}\n",
            "2.7.15rc1 (default, Nov 12 2018, 14:31:15) \n",
            "[GCC 7.3.0]\n"
          ],
          "name": "stdout"
        }
      ]
    },
    {
      "metadata": {
        "id": "QTjfuoieie9C",
        "colab_type": "code",
        "colab": {}
      },
      "cell_type": "code",
      "source": [
        " # Scrape IMDB for list of documentaries\n",
        "url = 'https://www.imdb.com/search/title?title_type=documentary&explore=genres'\n",
        "response = get(url)\n",
        "html_soup = BeautifulSoup(response.text, 'html.parser')\n"
      ],
      "execution_count": 0,
      "outputs": []
    },
    {
      "metadata": {
        "id": "stlDZkCXLwWy",
        "colab_type": "code",
        "colab": {}
      },
      "cell_type": "code",
      "source": [
        "# Grab each of the URLs for all of the documentaries\n",
        "movie_urls = []\n",
        "for data in html_soup.find_all('div', class_='lister-item-image float-left'):\n",
        "    for a in data.find_all('a'):\n",
        "        link = a.get('href').split(\"?\")\n",
        "        movie_urls.append(link[0]) #for getting link\n",
        "        #print(a.text) #for getting text between the link"
      ],
      "execution_count": 0,
      "outputs": []
    },
    {
      "metadata": {
        "id": "Z-5bRtNks1EF",
        "colab_type": "code",
        "colab": {}
      },
      "cell_type": "code",
      "source": [
        "# Grab all of the reviews for each movie\n",
        "review_list = []\n",
        "\n",
        "for movie in movie_urls:\n",
        "  \n",
        "  review_url = 'https://www.imdb.com' + movie + 'reviews'\n",
        "  #print review_url\n",
        "  response = get(review_url)\n",
        "  #print(response.text)\n",
        "  review_soup = BeautifulSoup(response.text, 'html.parser')\n",
        "\n",
        "  for data in review_soup.find_all('div', class_='text show-more__control'):\n",
        "    review_list.append(data.text) #for getting text between the link"
      ],
      "execution_count": 0,
      "outputs": []
    },
    {
      "metadata": {
        "id": "dT_K4H102xaD",
        "colab_type": "code",
        "outputId": "2f3ac82b-99a1-4986-fc18-bf8575c01f52",
        "colab": {
          "base_uri": "https://localhost:8080/",
          "height": 34
        }
      },
      "cell_type": "code",
      "source": [
        "# Get total number of reviews\n",
        "len(review_list)"
      ],
      "execution_count": 6,
      "outputs": [
        {
          "output_type": "execute_result",
          "data": {
            "text/plain": [
              "827"
            ]
          },
          "metadata": {
            "tags": []
          },
          "execution_count": 6
        }
      ]
    },
    {
      "metadata": {
        "id": "A9mYRXJELD4y",
        "colab_type": "code",
        "colab": {}
      },
      "cell_type": "code",
      "source": [
        "# Extract all of the noun chunks from each review and print them out\n",
        "# Also lemmatize while we are at it.\n",
        "\n",
        "lemma_reviews = []\n",
        "sent_reviews = []\n",
        "nlp = spacy.load('en_core_web_sm')\n",
        "for review in review_list:\n",
        "  doc = nlp(review)\n",
        "  lemma_reviews.append(\" \".join([token.lemma_ for token in doc]))\n",
        "  for chunk in doc.noun_chunks:\n",
        "    sent = TextBlob(chunk.text)\n",
        "    if (sent.polarity != 0):\n",
        "      sent_reviews.append((chunk.text, sent.polarity))"
      ],
      "execution_count": 0,
      "outputs": []
    },
    {
      "metadata": {
        "id": "pU9BgvEG9ovF",
        "colab_type": "code",
        "outputId": "7c9fd014-3e5b-4fd6-ae5d-971aa3323794",
        "colab": {
          "base_uri": "https://localhost:8080/",
          "height": 204
        }
      },
      "cell_type": "code",
      "source": [
        "# Remove stop words\n",
        "stop_words = set(stopwords.words('english')) \n",
        "stop_words.add(\"film\")\n",
        "stop_words.add(\"movie\")\n",
        "stop_words.add(\"documentary\")\n",
        "stop_words.add(\"go\")\n",
        "stop_words.add(\"see\")\n",
        "stop_words.add(\"watch\")\n",
        "stop_words.add(\"pron\") # Spacy lemmatizer throws these in for pronouns.\n",
        "\n",
        "# Vectorize corpus\n",
        "vectorizer = TfidfVectorizer(stop_words=stop_words)\n",
        "X = vectorizer.fit_transform(lemma_reviews)\n",
        "\n",
        "k = 10\n",
        "model = KMeans(n_clusters=k, init='k-means++', max_iter=100, n_init=1)\n",
        "model.fit(X)\n",
        "\n",
        "# Print out clusters.\n",
        "print(\"Top terms per cluster:\")\n",
        "order_centroids = model.cluster_centers_.argsort()[:, ::-1]\n",
        "terms = vectorizer.get_feature_names()\n",
        "for i in range(k):\n",
        "    print(\"Cluster %d:\" % i),\n",
        "    for ind in order_centroids[i, :10]:\n",
        "        print(' %s' % terms[ind]),\n",
        "    print\n"
      ],
      "execution_count": 8,
      "outputs": [
        {
          "output_type": "stream",
          "text": [
            "Top terms per cluster:\n",
            "Cluster 0:  banksy  art  artist  street  mcqueen  guetta  thierry  exit  shop  fashion\n",
            "Cluster 1:  make  show  one  like  good  people  would  life  great  get\n",
            "Cluster 2:  russian  doping  russia  dope  athlete  sport  us  putin  bryan  rodchenkov\n",
            "Cluster 3:  moore  food  gun  eat  spurlock  people  fast  mcdonald  black  michael\n",
            "Cluster 4:  porn  girl  rocco  woman  industry  make  star  court  life  get\n",
            "Cluster 5:  paul  walker  football  gerrard  player  legend  steven  love  great  family\n",
            "Cluster 6:  carrey  whitney  jim  andy  kaufman  houston  life  know  moon  singer\n",
            "Cluster 7:  climb  climber  meru  climbing  mountain  alex  story  rock  el  chin\n",
            "Cluster 8:  band  coldplay  love  music  fan  album  friendship  like  masterpiece  full\n",
            "Cluster 9:  story  nicholas  family  three  bourdin  triplet  year  identical  nature  twin\n"
          ],
          "name": "stdout"
        }
      ]
    },
    {
      "metadata": {
        "id": "QIUZA_itjbrD",
        "colab_type": "code",
        "outputId": "0b65cff8-d863-48c1-baed-2a6b9d27129f",
        "colab": {
          "base_uri": "https://localhost:8080/",
          "height": 54
        }
      },
      "cell_type": "code",
      "source": [
        "# Create a dictionary of lists. One list for each cluster.\n",
        "sent_dict = defaultdict(list)\n",
        "\n",
        "for idx in range(0, X.shape[0]):\n",
        "  pred = model.predict(X[idx])\n",
        "  key = str(pred[0])\n",
        "  sent_dict[key].append(sent_reviews[idx][1])\n",
        "print sent_dict\n"
      ],
      "execution_count": 9,
      "outputs": [
        {
          "output_type": "stream",
          "text": [
            "defaultdict(<type 'list'>, {'1': [-0.016666666666666663, 0.2, 0.1, 0.375, 0.16666666666666666, -0.2, 0.1, 0.1, 0.375, 0.25, -0.3, 0.5, 0.375, 0.4, 0.13636363636363635, 0.1, 0.11363636363636363, -0.125, 0.25, 0.5, 0.24675324675324675, 0.3, 0.2, 0.4, 0.25, 0.5, -1.0, 0.75, 0.30000000000000004, 0.1, 0.4166666666666667, 0.5, 0.1, 0.8, -0.15555555555555559, 0.8, 0.5, 0.5, 0.1, 0.6, -0.2, -0.07777777777777777, 0.3, 0.1, 0.375, 0.1, 0.5, -0.08333333333333333, 0.5, 0.125, 0.05000000000000002, -0.1, 0.5, 0.6, 0.5, 0.7, 0.3333333333333333, 0.21428571428571427, 0.8, 0.9, -0.3, 0.30000000000000004, 0.2, 0.1, -0.16666666666666666, -0.1, 0.8, 0.2, 0.3333333333333333, 0.16666666666666666, 0.15000000000000002, -0.25, 0.25, 0.10000000000000002, 0.25, 0.1, 0.375, 0.8, -0.16666666666666666, 0.7, -0.3333333333333333, 0.5, 0.8, -0.07142857142857142, 0.375, 0.5, 0.75, 0.25, 0.8, 0.25, 0.5, 0.7, 0.2, 0.15625, 0.1, 0.35, 0.5, 0.6, 0.5, 0.5, 0.13636363636363635, 0.5, 0.5, 0.5, 0.2, 0.1, 0.8, 0.5, 1.0, 0.6, -0.05, 0.4, -0.3, 0.13, -0.125, 0.35, 0.1, 0.13636363636363635, -0.08333333333333333, 0.2, -0.3, 0.5, 0.6, 0.1875, 0.3333333333333333, 0.4, -0.125, 0.4, 0.26666666666666666, -0.5, 1.0, -0.8, 0.4, -0.16666666666666666, 0.5, 1.0, 0.16666666666666666, 1.0, 0.75, 0.4, 1.0, 0.2, 0.6666666666666666, 0.4, 1.0, 0.21666666666666665, 1.0, 0.6, 0.7, 0.5, 0.4, 0.5, 0.5, 0.5, 0.5, 0.2, 0.7, 0.35, 0.4000000000000001, -0.025, 0.9, 0.2, 0.2, -0.16666666666666666, 0.9, 0.25, -0.15, 0.13636363636363635, 0.03333333333333333, 0.13636363636363635, -0.1, 0.15, 0.8, 0.4, 1.0, -0.125, 0.3, 0.375, 0.5, 0.35, 0.5, 0.7, 0.1, 0.16666666666666666, -0.6, -0.24166666666666664, 0.35, -0.2, 0.0625, -0.23076923076923078, -0.125, -0.1, 0.4, 0.16, 0.175, 0.5, 0.7, -0.0625, 0.3, -0.0625, -0.2, 0.5, -0.16666666666666666, -0.3125, 0.5, 0.25, 0.8, 0.2, 0.35, -0.08333333333333333, 0.4, -0.07142857142857142, 0.7, -0.16666666666666666, 1.0, 0.2, 0.4, 0.8, 0.8, 0.8, 0.1, -0.5, 0.6, 0.35, -0.6999999999999998, 0.6, 0.05, 0.1, -0.125, -0.05, -0.1, 0.16666666666666666, -0.5, 0.16, 0.7, -0.125, 0.4, 0.5, 0.375, -0.025000000000000022, 0.4, 0.7, 0.25, 0.13636363636363635, 0.25, -0.05, 0.25, -0.05, -0.3, 0.2, 0.13636363636363635, 0.7, 0.13636363636363635, -0.16666666666666666, -0.4, 0.1, 0.2, 0.1, 0.375, 0.1, -0.22777777777777777, -0.15, -0.08333333333333333, 0.7, 0.7, 0.25, 0.7, 0.65, 0.5, 0.03333333333333333, -0.1, 0.5, 0.35714285714285715, 0.35714285714285715, 0.6, 0.1, -0.16666666666666666, 0.13636363636363635, 0.5, 0.5, 0.16, 0.2, -0.125, -0.3, -0.125, 1.0, -0.15, 0.5, 0.6, -0.5, 0.1, 0.016666666666666666, 0.03333333333333333, 0.6, 0.26666666666666666, 0.18888888888888888, 1.0, 1.0, 0.2, 0.04166666666666667, 0.15, 0.9, 0.15, 0.6000000000000001, 0.1, -0.1, 0.4375, 0.1875, 0.2, -0.3, 0.8333333333333334, 0.22727272727272727, 0.5, -0.16666666666666666, -0.25, 0.375, -0.7, 0.5, 0.5, 0.6000000000000001, 0.8, -0.125, 0.13636363636363635, 0.0625, -0.07500000000000001, 1.0, -0.07142857142857142, -0.25, -0.25, 0.6, 0.1, 0.2, 0.425, 0.6, 0.2, 0.13636363636363635, 0.6000000000000001, 0.13, 0.26, -0.25, 0.2, 0.4, -0.3, -0.7, 0.06666666666666667, -0.2, -0.16666666666666666, -0.1875, 0.1, -0.7, 0.25, -0.05, 0.05000000000000002, 0.1, 0.05, -0.5, 0.13636363636363635, 0.375, -0.5, 0.2, -0.51, -0.5, -0.2, -0.2, 0.13636363636363635, -0.2, 0.325, 0.5, 0.27499999999999997, 1.0, -0.3333333333333333, 0.2857142857142857, -0.16666666666666666, -0.1, 0.23333333333333336, 0.04166666666666667, -0.08333333333333333, 0.13636363636363635, 0.4333333333333333, 0.25, 0.5, 0.6, 0.1, 0.85, 0.30000000000000004, -0.15, 0.9, 0.6, -0.5, -0.10714285714285715, 0.5, 0.5, -0.25, 0.6, 0.1, 0.13636363636363635, 0.7, -0.16666666666666666, -0.5, 0.375, -0.1, 0.3, -0.375, 0.1, 0.4, -0.125, -0.7, 0.1, 0.5, -0.25, -1.0, 0.3333333333333333, -0.05, 0.25, 0.1, 0.21428571428571427, 0.03333333333333333, 0.5, 0.10416666666666667, -1.0, -0.1, 0.6, 0.13636363636363635, 0.2, 0.375, -0.07500000000000001, -0.2, -0.5, 0.6, 0.5, 0.1, -0.125, -0.25, 1.0, -0.2, 0.03333333333333333, 0.4, 0.16, -0.5, -0.15, -0.26, -0.4, 0.1, 0.5, 1.0, 0.1346153846153846, 0.5, 0.6, 1.0], '0': [0.5, 0.4, 0.5, 0.4, -0.07142857142857142, 0.5, 0.4, 0.08333333333333334, -0.125, -0.125, 0.4, 0.5, 0.5, -0.21666666666666665, -0.1, -0.8, -0.1, 0.25, -0.25, 0.2, 0.5, -0.25, 0.5, 0.5, 0.375, 0.5, 0.3, 0.37500000000000006, 0.19999999999999998, 0.1, 0.6, -0.1, -0.34375, 0.1], '3': [0.35, -0.05, 0.7, -0.05, 0.6000000000000001, 0.8, 0.8, -0.049999999999999996, 1.0, -0.4, 0.8, 0.03333333333333333, 0.4, 0.15, 0.5, 0.4, 0.03333333333333333, 0.7, 0.5, 0.016666666666666666, -0.8, 0.03333333333333333, 0.03333333333333333, 0.35, 0.03333333333333333, 0.13333333333333333, 0.03333333333333333, 0.5, 0.03333333333333333, 0.07499999999999998, -0.2, -0.25, -0.08333333333333333, 0.6, 0.325, -0.05, -0.1, -0.1875, -0.1, -0.25, 0.3333333333333333, 0.5, 0.6, 0.16666666666666666, -0.03571428571428571, -0.1875, 0.5, 0.5, 0.3, -0.08333333333333333, 0.6, 0.1, 1.0, 0.4, 0.7, -0.08333333333333333, 0.3, -0.3, 0.7, 0.13636363636363635, 0.5, 0.8, -0.07142857142857142, 0.45, -0.125, 0.5, 0.35, 0.5, 0.3333333333333333, 0.1], '2': [0.6, 0.03333333333333333, 0.03333333333333333, 0.3, 0.2333333333333333, 0.1, 0.16666666666666666, 0.5, 0.03333333333333333, 0.7, 0.5, 0.03333333333333333, 0.8, -0.5, 0.6000000000000001, 0.03333333333333333, 0.5, 0.26666666666666666, 0.03333333333333333, 0.8], '5': [0.2857142857142857, 0.8, 0.4, 0.7, 0.07500000000000002, 1.0, -0.1, 0.1, 0.6, -1.0, -0.375, -0.25, 0.6, 0.125, 0.13636363636363635, 0.7, 0.7, -0.5, -0.3333333333333333, 0.2], '4': [0.1, -0.1875, 0.8, 0.2, 0.5, 0.3, 1.0, 0.03125, 0.8, 0.2, 0.5, 0.25, 1.0, 0.10000000000000002, -0.05, -0.6666666666666666, 0.4, 1.0, 0.4, -0.1, 0.25, 0.2, 1.0, 0.5, 0.3333333333333333, 0.25, 0.65, -0.65, -0.17857142857142858, 0.5, -0.125, -0.2, -0.1, 0.13636363636363635, 0.5, 0.8, 0.8, 0.16, 0.3, 0.75, 0.1, 0.2, 0.7, 0.325, 0.21428571428571427, 0.5, 0.5, 0.5, -0.125, 0.4, -0.1, 0.7, -0.2, 1.0, 0.2, 0.2, 0.1, 0.5, -0.08333333333333333, 0.8, -0.1, 0.2, 0.3833333333333333, 0.6, -0.0625, -0.125, 0.1, 0.1875, 0.4, 0.6, 0.5, -0.25, 0.1, -0.6, -0.16666666666666666, 0.03333333333333333, 0.13636363636363635, 0.3333333333333333, 0.2, -0.05, 0.4333333333333333, 0.2, -0.7], '7': [0.375, -0.08333333333333333, 0.2, 0.2, 0.2, 0.5, 0.13636363636363635, 0.05, 0.5, -0.1, 0.13636363636363635, 0.13636363636363635, 0.8, -0.2, 0.4, -0.3214285714285714, 0.4000000000000001, 0.03333333333333333, -0.08888888888888889, -0.25, 0.3333333333333333, 0.1, 0.1, 0.5, 0.1, 0.3, 0.6, 0.4833333333333334, -0.23333333333333334, -0.07500000000000001, -0.1, -0.25, 0.6, 0.1, 0.4, 0.375, 0.6, 0.5, 0.5, 0.65, 0.5, 1.0, 0.675, 0.5, 0.35, 0.8], '6': [0.5, 0.6000000000000001, 0.3, 0.21428571428571427, 0.5, 0.5, 0.6, 0.5, -1.0, 0.78, 0.5, -0.16666666666666666, 0.2, -0.1, 0.2, -0.21666666666666667, 0.4, -0.0625, 0.5, -0.7, -0.2, 0.2, 0.3333333333333333, 0.3333333333333333, -0.6, 0.5, 0.16818181818181818, 0.7, -0.05, 0.275, -0.75, 0.2, -0.15000000000000002, -0.15, 0.35714285714285715, 0.125, -0.1, -0.125, 0.25], '9': [-0.125, 0.1, 0.4, 0.21428571428571427, 0.35, 0.4, 0.375, 0.35, 0.4, 0.55, -0.16666666666666666, 0.8, -0.2, 0.5, 0.25, 0.375, 0.5, 0.25, 0.8, -0.16666666666666666, 0.2, 1.0, 0.5, 0.5, 0.2, 0.4, -0.23076923076923078, 0.5, 0.2, 0.037500000000000006, 0.5, -0.5000000000000001, 0.25, -0.23076923076923078, -0.23076923076923078, 0.5, 0.65, 0.15, 0.5, -0.2916666666666667], '8': [0.8, 0.375, 0.18888888888888888, 0.1, 0.5, 0.9, 0.1, 0.5, 0.5, 0.5, 0.6, 0.5, 0.0625, -0.14285714285714285, 0.375, 0.5, 0.16666666666666666, 0.0875, 0.25, -0.1875, 0.03333333333333333, 0.8, 0.3, 0.03333333333333333, 0.2, 0.7]})\n"
          ],
          "name": "stdout"
        }
      ]
    },
    {
      "metadata": {
        "id": "PUw3QVwTE3WM",
        "colab_type": "code",
        "colab": {}
      },
      "cell_type": "code",
      "source": [
        "# Sort the sentiment of each review \n",
        "sentiment = sorted(sent_reviews,key=lambda x:(-x[1],x[0]))\n"
      ],
      "execution_count": 0,
      "outputs": []
    },
    {
      "metadata": {
        "id": "1-0GO-nvFNZW",
        "colab_type": "code",
        "outputId": "0dc2e28c-a6f1-41a2-f8a1-51059b29bf19",
        "colab": {
          "base_uri": "https://localhost:8080/",
          "height": 34
        }
      },
      "cell_type": "code",
      "source": [
        "# Print out highest sentiment\n",
        "print sentiment[0:4]"
      ],
      "execution_count": 11,
      "outputs": [
        {
          "output_type": "stream",
          "text": [
            "[(u'\"Pitch Perfect', 1.0), (u'(BEST', 1.0), (u', what a wonderful concept', 1.0), (u'A Wonderful World', 1.0)]\n"
          ],
          "name": "stdout"
        }
      ]
    },
    {
      "metadata": {
        "id": "5lwbr0c25IPK",
        "colab_type": "code",
        "outputId": "0bc4797d-63fa-4a55-cafa-3a1e917633d5",
        "colab": {
          "base_uri": "https://localhost:8080/",
          "height": 34
        }
      },
      "cell_type": "code",
      "source": [
        "# Print out the lowest sentiment\n",
        "print sentiment[-4:]"
      ],
      "execution_count": 12,
      "outputs": [
        {
          "output_type": "stream",
          "text": [
            "[(u'this insane performance', -1.0), (u'this terrible death toll', -1.0), (u'those two awful instances', -1.0), (u'totally a horrible experience', -1.0)]\n"
          ],
          "name": "stdout"
        }
      ]
    },
    {
      "metadata": {
        "id": "RmvMK8A-1xeK",
        "colab_type": "code",
        "outputId": "fe0f28be-7dc7-49f1-92d4-3609a8878bb8",
        "colab": {
          "base_uri": "https://localhost:8080/",
          "height": 187
        }
      },
      "cell_type": "code",
      "source": [
        "# Print out sentiment statistics by cluster.\n",
        "for key in sent_dict:\n",
        "  print \"Stats for cluster\", key , \"High: \", max(sent_dict[key]), \"Low: \", min(sent_dict[key]), \"Mean: \", np.mean(sent_dict[key])\n",
        "  #print \"Highest sentiment value:\", max(sent_dict[key])\n",
        "  #print \"Lowest sentiment value:\", min(sent_dict[key])\n",
        "  #print \"Mean sentiment:\", np.mean(sent_dict[key])"
      ],
      "execution_count": 13,
      "outputs": [
        {
          "output_type": "stream",
          "text": [
            "Stats for cluster 1 High:  1.0 Low:  -1.0 Mean:  0.2201287987563043\n",
            "Stats for cluster 0 High:  0.6 Low:  -0.8 Mean:  0.18239670868347335\n",
            "Stats for cluster 3 High:  1.0 Low:  -0.8 Mean:  0.24065553494124922\n",
            "Stats for cluster 2 High:  0.8 Low:  -0.5 Mean:  0.28833333333333333\n",
            "Stats for cluster 5 High:  1.0 Low:  -1.0 Mean:  0.1931872294372294\n",
            "Stats for cluster 4 High:  1.0 Low:  -0.7 Mean:  0.2558697778125489\n",
            "Stats for cluster 7 High:  1.0 Low:  -0.321428571429 Mean:  0.2702631909153649\n",
            "Stats for cluster 6 High:  0.78 Low:  -1.0 Mean:  0.13757548007548007\n",
            "Stats for cluster 9 High:  1.0 Low:  -0.5 Mean:  0.2639869505494506\n",
            "Stats for cluster 8 High:  0.9 Low:  -0.1875 Mean:  0.33622557997557995\n"
          ],
          "name": "stdout"
        }
      ]
    },
    {
      "metadata": {
        "id": "tkM5hqrz9Oau",
        "colab_type": "code",
        "colab": {}
      },
      "cell_type": "code",
      "source": [
        ""
      ],
      "execution_count": 0,
      "outputs": []
    }
  ]
}